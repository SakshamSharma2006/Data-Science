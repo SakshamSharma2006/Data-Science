{
  "nbformat": 4,
  "nbformat_minor": 0,
  "metadata": {
    "colab": {
      "private_outputs": true,
      "provenance": [],
      "authorship_tag": "ABX9TyPrMkLlI7fMszpsLzZ1TBhZ",
      "include_colab_link": true
    },
    "kernelspec": {
      "name": "python3",
      "display_name": "Python 3"
    },
    "language_info": {
      "name": "python"
    }
  },
  "cells": [
    {
      "cell_type": "markdown",
      "metadata": {
        "id": "view-in-github",
        "colab_type": "text"
      },
      "source": [
        "<a href=\"https://colab.research.google.com/github/SakshamSharma2006/Data-Science/blob/main/Saksham_Sharma_Diabetes_Prediction.ipynb\" target=\"_parent\"><img src=\"https://colab.research.google.com/assets/colab-badge.svg\" alt=\"Open In Colab\"/></a>"
      ]
    },
    {
      "cell_type": "code",
      "execution_count": null,
      "metadata": {
        "id": "9rZGuwSYo-Fx"
      },
      "outputs": [],
      "source": [
        "import numpy as np # linear algebra\n",
        "import pandas as pd # data processing, CSV file I/O (e.g. pd.read_csv)\n",
        "import matplotlib.pyplot as plt\n",
        "import seaborn as sns\n",
        "from sklearn.preprocessing import scale, StandardScaler\n",
        "from sklearn.model_selection import train_test_split\n",
        "from sklearn.metrics import confusion_matrix, accuracy_score\n",
        "from sklearn.linear_model import LogisticRegression\n",
        "from sklearn.ensemble import RandomForestClassifier\n",
        "from sklearn.model_selection import KFold\n",
        "plt.style.use(\"ggplot\")\n",
        "import warnings\n",
        "warnings.filterwarnings(\"ignore\")"
      ]
    },
    {
      "cell_type": "code",
      "source": [
        "data = pd.read_csv(\"/content/diabetes.csv\")"
      ],
      "metadata": {
        "id": "ayv2U2Aep9wc"
      },
      "execution_count": null,
      "outputs": []
    },
    {
      "cell_type": "code",
      "source": [
        "data.head()"
      ],
      "metadata": {
        "id": "VYr-ZRcVqHhw"
      },
      "execution_count": null,
      "outputs": []
    },
    {
      "cell_type": "code",
      "source": [
        "data.columns"
      ],
      "metadata": {
        "id": "fL3r969aqKkV"
      },
      "execution_count": null,
      "outputs": []
    },
    {
      "cell_type": "code",
      "source": [
        "data.describe()"
      ],
      "metadata": {
        "id": "UgTU8s1xqKip"
      },
      "execution_count": null,
      "outputs": []
    },
    {
      "cell_type": "code",
      "source": [
        "data.shape"
      ],
      "metadata": {
        "id": "vLcA-7DSqQ6A"
      },
      "execution_count": null,
      "outputs": []
    },
    {
      "cell_type": "code",
      "source": [
        "data.isnull().sum()"
      ],
      "metadata": {
        "id": "0Ipf-eJTqYg8"
      },
      "execution_count": null,
      "outputs": []
    },
    {
      "cell_type": "code",
      "source": [
        "data.Outcome.value_counts()*100/len(data)"
      ],
      "metadata": {
        "id": "xlg04nZyqYbN"
      },
      "execution_count": null,
      "outputs": []
    },
    {
      "cell_type": "code",
      "source": [
        "plt.figure(figsize=(8,8))\n",
        "plt.xlabel(\"Age\", fontsize=10)\n",
        "plt.ylabel(\"Count\", fontsize=10)\n",
        "data[\"Age\"].hist(edgecolor=\"black\", label='Age Distribution')\n",
        "plt.legend()\n",
        "plt.show()"
      ],
      "metadata": {
        "id": "Ioh14VCwqdaQ"
      },
      "execution_count": null,
      "outputs": []
    },
    {
      "cell_type": "code",
      "source": [
        "print(\"MAX AGE: \"+str(data['Age'].max()))\n",
        "print(\"MIN AGE: \"+str(data['Age'].min()))"
      ],
      "metadata": {
        "id": "CRJ4mCbCqgIZ"
      },
      "execution_count": null,
      "outputs": []
    },
    {
      "cell_type": "code",
      "source": [
        "fig, ax = plt.subplots(4, 2, figsize=(20, 20))\n",
        "\n",
        "sns.histplot(data.Pregnancies, bins=20, ax=ax[0,0], color=\"red\", kde=True, line_kws={'linewidth': 2})\n",
        "sns.histplot(data.Glucose, bins=20, ax=ax[0,1], color=\"red\", kde=True, line_kws={'linewidth': 2})\n",
        "sns.histplot(data.BloodPressure, bins=20, ax=ax[1,0], color=\"red\", kde=True, line_kws={'linewidth': 2})\n",
        "sns.histplot(data.SkinThickness, bins=20, ax=ax[1,1], color=\"red\", kde=True, line_kws={'linewidth': 2})\n",
        "sns.histplot(data.Insulin, bins=20, ax=ax[2,0], color=\"red\", kde=True, line_kws={'linewidth': 2})\n",
        "sns.histplot(data.BMI, bins=20, ax=ax[2,1], color=\"red\", kde=True, line_kws={'linewidth': 2})\n",
        "sns.histplot(data.DiabetesPedigreeFunction, bins=20, ax=ax[3,0], color=\"red\", kde=True, line_kws={'linewidth': 2})\n",
        "sns.histplot(data.Age, bins=20, ax=ax[3,1], color=\"red\", kde=True, line_kws={'linewidth': 2})\n",
        "\n",
        "plt.tight_layout()\n",
        "plt.show()"
      ],
      "metadata": {
        "id": "XUYJWZ3wqkYD"
      },
      "execution_count": null,
      "outputs": []
    },
    {
      "cell_type": "code",
      "source": [
        "data.corr()"
      ],
      "metadata": {
        "id": "RQBafuy7qruR"
      },
      "execution_count": null,
      "outputs": []
    },
    {
      "cell_type": "code",
      "source": [
        "f,ax = plt.subplots(figsize=[10,10])\n",
        "sns.heatmap(data.corr(), annot=True, fmt = '.2f', ax=ax, cmap='coolwarm')\n",
        "ax.set_title(\"Correlation Matrix\", fontsize=20)\n",
        "plt.show()"
      ],
      "metadata": {
        "id": "pyAkjuwSqwYJ"
      },
      "execution_count": null,
      "outputs": []
    },
    {
      "cell_type": "code",
      "source": [
        "data[['Pregnancies', 'Glucose', 'BloodPressure', 'SkinThickness', 'Insulin',\n",
        "       'BMI', 'DiabetesPedigreeFunction', 'Age']] = data[['Pregnancies', 'Glucose', 'BloodPressure', 'SkinThickness', 'Insulin',\n",
        "       'BMI', 'DiabetesPedigreeFunction', 'Age']].replace(0, np.NaN)"
      ],
      "metadata": {
        "id": "LFgNC9I7qwTd"
      },
      "execution_count": null,
      "outputs": []
    },
    {
      "cell_type": "code",
      "source": [
        "data.isnull().sum()"
      ],
      "metadata": {
        "id": "TCHJ4-_-qwJ1"
      },
      "execution_count": null,
      "outputs": []
    },
    {
      "cell_type": "code",
      "source": [
        "data.head(10)"
      ],
      "metadata": {
        "id": "0l1U1CYJqwHQ"
      },
      "execution_count": null,
      "outputs": []
    },
    {
      "cell_type": "code",
      "source": [
        "def median_target(var):\n",
        "    temp = data[data[var].notnull()]\n",
        "    temp = temp[[var, 'Outcome']].groupby(['Outcome'])[[var]].median().reset_index()\n",
        "    return temp"
      ],
      "metadata": {
        "id": "CZ1dQQvqq9iF"
      },
      "execution_count": null,
      "outputs": []
    },
    {
      "cell_type": "code",
      "source": [
        "columns = data.columns\n",
        "columns = columns.drop(\"Outcome\")\n",
        "for i in columns:\n",
        "    median_target(i)\n",
        "    data.loc[(data['Outcome'] == 0 ) & (data[i].isnull()), i] = median_target(i)[i][0]\n",
        "    data.loc[(data['Outcome'] == 1 ) & (data[i].isnull()), i] = median_target(i)[i][1]"
      ],
      "metadata": {
        "id": "oDl-zM4Xq9gM"
      },
      "execution_count": null,
      "outputs": []
    },
    {
      "cell_type": "code",
      "source": [
        "data.isnull().sum()"
      ],
      "metadata": {
        "id": "PF8WX6C-q9eK"
      },
      "execution_count": null,
      "outputs": []
    },
    {
      "cell_type": "code",
      "source": [
        "Q1 = data.Insulin.quantile(0.25)\n",
        "Q3 = data.Insulin.quantile(0.75)\n",
        "IQR = Q3-Q1\n",
        "lower = Q1-1.5*IQR\n",
        "upper = Q3+1.5*IQR\n",
        "data.loc[data['Insulin']>upper, \"Insulin\"] = upper"
      ],
      "metadata": {
        "id": "Uz58qTYlq9cM"
      },
      "execution_count": null,
      "outputs": []
    },
    {
      "cell_type": "code",
      "source": [
        "from sklearn.neighbors import LocalOutlierFactor\n",
        "lof = LocalOutlierFactor(n_neighbors=10)\n",
        "lof.fit_predict(data)"
      ],
      "metadata": {
        "id": "o8Z412xRq9YL"
      },
      "execution_count": null,
      "outputs": []
    },
    {
      "cell_type": "code",
      "source": [],
      "metadata": {
        "id": "kcsO55KIq9Vp"
      },
      "execution_count": null,
      "outputs": []
    },
    {
      "cell_type": "code",
      "source": [
        "data_scores = lof.negative_outlier_factor_\n",
        "np.sort(data_scores)[0:20]"
      ],
      "metadata": {
        "id": "XUM3z3imq9TD"
      },
      "execution_count": null,
      "outputs": []
    },
    {
      "cell_type": "code",
      "source": [
        "thresold = np.sort(data_scores)[5]"
      ],
      "metadata": {
        "id": "T8tM6xVtqwCl"
      },
      "execution_count": null,
      "outputs": []
    },
    {
      "cell_type": "code",
      "source": [
        "thresold"
      ],
      "metadata": {
        "id": "fquXep0lrPPh"
      },
      "execution_count": null,
      "outputs": []
    },
    {
      "cell_type": "code",
      "source": [
        "outlier = data_scores>thresold"
      ],
      "metadata": {
        "id": "XDq9xLiZrSEj"
      },
      "execution_count": null,
      "outputs": []
    },
    {
      "cell_type": "code",
      "source": [
        "outlier"
      ],
      "metadata": {
        "id": "sUrVZEzbrVep"
      },
      "execution_count": null,
      "outputs": []
    },
    {
      "cell_type": "code",
      "source": [
        "data = data[outlier]\n",
        "data"
      ],
      "metadata": {
        "id": "JGQNWr_VrVcW"
      },
      "execution_count": null,
      "outputs": []
    },
    {
      "cell_type": "code",
      "source": [
        "NewBMI = pd.Series([\"Underweight\",\"Normal\", \"Overweight\",\"Obesity 1\", \"Obesity 2\", \"Obesity 3\"], dtype = \"category\")"
      ],
      "metadata": {
        "id": "FVyo6uJNrVUD"
      },
      "execution_count": null,
      "outputs": []
    },
    {
      "cell_type": "code",
      "source": [
        "NewBMI"
      ],
      "metadata": {
        "id": "EdccDPRVrVR-"
      },
      "execution_count": null,
      "outputs": []
    },
    {
      "cell_type": "code",
      "source": [
        "data['NewBMI'] = NewBMI\n",
        "data.loc[data[\"BMI\"]<18.5, \"NewBMI\"] = NewBMI[0]\n",
        "data.loc[(data[\"BMI\"]>18.5) & data[\"BMI\"]<=24.9, \"NewBMI\"] = NewBMI[1]\n",
        "data.loc[(data[\"BMI\"]>24.9) & data[\"BMI\"]<=29.9, \"NewBMI\"] = NewBMI[2]\n",
        "data.loc[(data[\"BMI\"]>29.9) & data[\"BMI\"]<=34.9, \"NewBMI\"] = NewBMI[3]\n",
        "data.loc[(data[\"BMI\"]>34.9) & data[\"BMI\"]<=39.9, \"NewBMI\"] = NewBMI[4]\n",
        "data.loc[data[\"BMI\"]>39.9, \"NewBMI\"] = NewBMI[5]"
      ],
      "metadata": {
        "id": "Xbilo_W0rVQF"
      },
      "execution_count": null,
      "outputs": []
    },
    {
      "cell_type": "code",
      "source": [
        "data.head()"
      ],
      "metadata": {
        "id": "gTn4qSBnrVLp"
      },
      "execution_count": null,
      "outputs": []
    },
    {
      "cell_type": "code",
      "source": [
        "def set_insuline(row):\n",
        "    if row[\"Insulin\"]>=16 and row[\"Insulin\"]<=166:\n",
        "        return \"Normal\"\n",
        "    else:\n",
        "        return \"Abnormal\""
      ],
      "metadata": {
        "id": "SwZYo_7crVJN"
      },
      "execution_count": null,
      "outputs": []
    },
    {
      "cell_type": "code",
      "source": [
        "data = data.assign(NewInsulinScore=data.apply(set_insuline, axis=1))"
      ],
      "metadata": {
        "id": "E9a6C8wMrtRG"
      },
      "execution_count": null,
      "outputs": []
    },
    {
      "cell_type": "code",
      "source": [
        "data.head()"
      ],
      "metadata": {
        "id": "DEhiTP4PrtPK"
      },
      "execution_count": null,
      "outputs": []
    },
    {
      "cell_type": "code",
      "source": [
        "NewGlucose = pd.Series([\"Low\", \"Normal\", \"Overweight\", \"Secret\", \"High\"], dtype = \"category\")\n",
        "data[\"NewGlucose\"] = NewGlucose\n",
        "data.loc[data[\"Glucose\"] <= 70, \"NewGlucose\"] = NewGlucose[0]\n",
        "data.loc[(data[\"Glucose\"] > 70) & (data[\"Glucose\"] <= 99), \"NewGlucose\"] = NewGlucose[1]\n",
        "data.loc[(data[\"Glucose\"] > 99) & (data[\"Glucose\"] <= 126), \"NewGlucose\"] = NewGlucose[2]\n",
        "data.loc[data[\"Glucose\"] > 126 ,\"NewGlucose\"] = NewGlucose[3]"
      ],
      "metadata": {
        "id": "rUhn5UtEr27K"
      },
      "execution_count": null,
      "outputs": []
    },
    {
      "cell_type": "code",
      "source": [
        "data = pd.get_dummies(data, columns = [\"NewBMI\", \"NewInsulinScore\", \"NewGlucose\"], drop_first=True)"
      ],
      "metadata": {
        "id": "D8JFYm94rtNd"
      },
      "execution_count": null,
      "outputs": []
    },
    {
      "cell_type": "code",
      "source": [
        "categorical_data = data[['NewBMI_Obesity 1',\n",
        "       'NewBMI_Obesity 2', 'NewBMI_Obesity 3', 'NewBMI_Overweight',\n",
        "       'NewBMI_Underweight', 'NewInsulinScore_Normal', 'NewGlucose_Low',\n",
        "       'NewGlucose_Normal', 'NewGlucose_Overweight', 'NewGlucose_Secret']]"
      ],
      "metadata": {
        "id": "iBZmBdgjrtKt"
      },
      "execution_count": null,
      "outputs": []
    },
    {
      "cell_type": "code",
      "source": [
        "categorical_data.head()"
      ],
      "metadata": {
        "id": "uLcj97iTrtIN"
      },
      "execution_count": null,
      "outputs": []
    },
    {
      "cell_type": "code",
      "source": [
        "y=data['Outcome']\n",
        "X=data.drop(['Outcome','NewBMI_Obesity 1',\n",
        "       'NewBMI_Obesity 2', 'NewBMI_Obesity 3', 'NewBMI_Overweight',\n",
        "       'NewBMI_Underweight', 'NewInsulinScore_Normal', 'NewGlucose_Low',\n",
        "       'NewGlucose_Normal', 'NewGlucose_Overweight', 'NewGlucose_Secret'], axis=1)"
      ],
      "metadata": {
        "id": "uuCqkKjMsGjx"
      },
      "execution_count": null,
      "outputs": []
    },
    {
      "cell_type": "code",
      "source": [
        "cols = X.columns\n",
        "index = X.index"
      ],
      "metadata": {
        "id": "4DLq4XDSrtF4"
      },
      "execution_count": null,
      "outputs": []
    },
    {
      "cell_type": "code",
      "source": [
        "X.head()"
      ],
      "metadata": {
        "id": "0rnRH7v8sKTg"
      },
      "execution_count": null,
      "outputs": []
    },
    {
      "cell_type": "code",
      "source": [
        "from sklearn.preprocessing import RobustScaler\n",
        "transformer = RobustScaler().fit(X)\n",
        "X=transformer.transform(X)\n",
        "X=pd.DataFrame(X, columns = cols, index = index)"
      ],
      "metadata": {
        "id": "RBRxasR_sSJ9"
      },
      "execution_count": null,
      "outputs": []
    },
    {
      "cell_type": "code",
      "source": [
        "X.head()"
      ],
      "metadata": {
        "id": "EysFVlOvsKJb"
      },
      "execution_count": null,
      "outputs": []
    },
    {
      "cell_type": "code",
      "source": [
        "X = pd.concat([X, categorical_data], axis=1)"
      ],
      "metadata": {
        "id": "1VX7kbeWsKHB"
      },
      "execution_count": null,
      "outputs": []
    },
    {
      "cell_type": "code",
      "source": [
        "X.head()"
      ],
      "metadata": {
        "id": "qkyhMS0_sXX6"
      },
      "execution_count": null,
      "outputs": []
    },
    {
      "cell_type": "code",
      "source": [
        "X_train, X_test, y_train , y_test = train_test_split(X,y, test_size=0.2, random_state=42)"
      ],
      "metadata": {
        "id": "iqh0gmVUsZnL"
      },
      "execution_count": null,
      "outputs": []
    },
    {
      "cell_type": "code",
      "source": [
        "scaler =StandardScaler()\n",
        "X_train = scaler.fit_transform(X_train)\n",
        "X_test = scaler.transform(X_test)"
      ],
      "metadata": {
        "id": "ymJiHmklscFS"
      },
      "execution_count": null,
      "outputs": []
    },
    {
      "cell_type": "code",
      "source": [
        "log_reg = LogisticRegression()\n",
        "log_reg.fit(X_train, y_train)"
      ],
      "metadata": {
        "id": "QFEyQ6t2sfe8"
      },
      "execution_count": null,
      "outputs": []
    },
    {
      "cell_type": "code",
      "source": [
        "y_pred = log_reg.predict(X_test)"
      ],
      "metadata": {
        "id": "bKoOUuF0sfcG"
      },
      "execution_count": null,
      "outputs": []
    },
    {
      "cell_type": "code",
      "source": [
        "accuracy_score(y_train, log_reg.predict(X_train))"
      ],
      "metadata": {
        "id": "nJdU2ygSsj3L"
      },
      "execution_count": null,
      "outputs": []
    },
    {
      "cell_type": "code",
      "source": [
        "log_reg_acc = accuracy_score(y_test, log_reg.predict(X_test))"
      ],
      "metadata": {
        "id": "E4-1xpacsmcc"
      },
      "execution_count": null,
      "outputs": []
    },
    {
      "cell_type": "code",
      "source": [
        "confusion_matrix(y_test, y_pred)"
      ],
      "metadata": {
        "id": "VhZ07F2dsmZy"
      },
      "execution_count": null,
      "outputs": []
    },
    {
      "cell_type": "code",
      "source": [
        "rand_clf = RandomForestClassifier(criterion = 'entropy', max_depth = 15, max_features = 0.75, min_samples_leaf = 2, min_samples_split = 3, n_estimators = 130)\n",
        "rand_clf.fit(X_train, y_train)"
      ],
      "metadata": {
        "id": "vszJu3Aosr4r"
      },
      "execution_count": null,
      "outputs": []
    },
    {
      "cell_type": "code",
      "source": [
        "y_pred = rand_clf.predict(X_test)"
      ],
      "metadata": {
        "id": "wOtwtKHIsr2j"
      },
      "execution_count": null,
      "outputs": []
    },
    {
      "cell_type": "code",
      "source": [
        "y_pred = rand_clf.predict(X_test)\n",
        "print(accuracy_score(y_train, rand_clf.predict(X_train)))\n",
        "rand_acc = accuracy_score(y_test, rand_clf.predict(X_test))\n",
        "print(accuracy_score(y_test, rand_clf.predict(X_test)))\n",
        "print(confusion_matrix(y_test, y_pred))"
      ],
      "metadata": {
        "id": "XhNzcuW_sxIp"
      },
      "execution_count": null,
      "outputs": []
    },
    {
      "cell_type": "code",
      "source": [
        "# Model Comparison\n",
        "models = pd.DataFrame({\n",
        "    'Model': ['Logistic Regression', 'Random Forest Classifier'],\n",
        "    'Score': [100*round(log_reg_acc,4), 100*round(rand_acc,4)]\n",
        "})\n",
        "models.sort_values(by = 'Score', ascending = False)"
      ],
      "metadata": {
        "id": "wGiW9t4DsxGT"
      },
      "execution_count": null,
      "outputs": []
    }
  ]
}