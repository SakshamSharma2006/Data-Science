{
  "nbformat": 4,
  "nbformat_minor": 0,
  "metadata": {
    "colab": {
      "private_outputs": true,
      "provenance": []
    },
    "kernelspec": {
      "name": "python3",
      "display_name": "Python 3"
    },
    "language_info": {
      "name": "python"
    }
  },
  "cells": [
    {
      "cell_type": "markdown",
      "source": [
        "#**Sakham Sharma Simple linear expression**"
      ],
      "metadata": {
        "id": "yCiBTkI1VXfC"
      }
    },
    {
      "cell_type": "code",
      "execution_count": null,
      "metadata": {
        "id": "VgnZCfNdUYgT"
      },
      "outputs": [],
      "source": [
        "# Import libraries\n",
        "import pandas as pd\n",
        "import numpy as np\n",
        "import matplotlib.pyplot as plt\n",
        "import seaborn as sns\n",
        "from sklearn.model_selection import train_test_split\n",
        "from pandas.core.common import random_state\n",
        "from sklearn.linear_model import LinearRegression"
      ]
    },
    {
      "cell_type": "code",
      "source": [
        "# Get dataset\n",
        "df_sal = pd.read_csv('/content/Salary_Dataset.csv')\n",
        "df_sal.head()"
      ],
      "metadata": {
        "id": "R5GqlaSTV5JK"
      },
      "execution_count": null,
      "outputs": []
    },
    {
      "cell_type": "code",
      "source": [
        "# Describe data\n",
        "df_sal.describe()"
      ],
      "metadata": {
        "id": "iXwArUr8XF5r"
      },
      "execution_count": null,
      "outputs": []
    },
    {
      "cell_type": "code",
      "source": [
        "# Data distribution\n",
        "plt.title('Salary Distribution Plot')\n",
        "sns.distplot(df_sal['Salary'])\n",
        "plt.show()"
      ],
      "metadata": {
        "id": "FtRyqNVKXKpq"
      },
      "execution_count": null,
      "outputs": []
    },
    {
      "cell_type": "code",
      "source": [
        "# Relationship between Salary and Experience\n",
        "plt.scatter(df_sal['YearsExperience'], df_sal['Salary'],color='lightcoral')\n",
        "plt.title('Salary vs Experience')\n",
        "plt.xlabel('Years of Experience')\n",
        "plt.ylabel('Salary')\n",
        "plt.box(False)\n",
        "plt.show()"
      ],
      "metadata": {
        "id": "yesurrqZXcf6"
      },
      "execution_count": null,
      "outputs": []
    },
    {
      "cell_type": "markdown",
      "source": [
        "Split the dataset into dependent/independent variables Experience (X) is the independent variable Salary (y) is dependent on experience"
      ],
      "metadata": {
        "id": "z8MDMSalXl46"
      }
    },
    {
      "cell_type": "code",
      "source": [
        "# Splitting variables\n",
        "X = df_sal.iloc[:, :1]  # independent\n",
        "y = df_sal.iloc[:, 1:]  # dependent"
      ],
      "metadata": {
        "id": "GBWIRZIgXh-S"
      },
      "execution_count": null,
      "outputs": []
    },
    {
      "cell_type": "markdown",
      "source": [
        "Split data into Train/Test sets"
      ],
      "metadata": {
        "id": "RvhFpSeHXrOy"
      }
    },
    {
      "cell_type": "code",
      "source": [
        "# Splitting dataset into test/train\n",
        "X_train, X_test, y_train, y_test = train_test_split(X, y, test_size = 0.2, random_state = 0)"
      ],
      "metadata": {
        "id": "lXoOEPyFXuYB"
      },
      "execution_count": null,
      "outputs": []
    },
    {
      "cell_type": "markdown",
      "source": [
        "Train the regression model"
      ],
      "metadata": {
        "id": "ZmCeDsD2YL04"
      }
    },
    {
      "cell_type": "code",
      "source": [
        "# Regressor model\n",
        "regressor = LinearRegression()\n",
        "regressor.fit(X_train, y_train)"
      ],
      "metadata": {
        "id": "oz0S27xfYOIC"
      },
      "execution_count": null,
      "outputs": []
    },
    {
      "cell_type": "code",
      "source": [
        "LinearRegression()"
      ],
      "metadata": {
        "id": "2GA_iPo9YxVi"
      },
      "execution_count": null,
      "outputs": []
    },
    {
      "cell_type": "markdown",
      "source": [
        "In a Jupyter environment, please rerun this cell to show the HTML representation or trust the notebook.\n",
        "On GitHub, the HTML representation is unable to render, please try loading this page with nbviewer.org."
      ],
      "metadata": {
        "id": "W7vRg5lhYzmS"
      }
    },
    {
      "cell_type": "markdown",
      "source": [
        "Predict the result"
      ],
      "metadata": {
        "id": "55tKOkxmZA6Z"
      }
    },
    {
      "cell_type": "code",
      "source": [
        "# Prediction result\n",
        "y_pred_test = regressor.predict(X_test)     # predicted value of y_test\n",
        "y_pred_train = regressor.predict(X_train)   # predicted value of y_train"
      ],
      "metadata": {
        "id": "oKfSS-F8Y-Ey"
      },
      "execution_count": null,
      "outputs": []
    },
    {
      "cell_type": "markdown",
      "source": [
        "Plot the training and test results\n",
        "Its time to test our predicted results by plotting graphs"
      ],
      "metadata": {
        "id": "g2JX4szKZHrK"
      }
    },
    {
      "cell_type": "markdown",
      "source": [
        "Plot training set data vs predictions"
      ],
      "metadata": {
        "id": "WcZnMHsjZMfi"
      }
    },
    {
      "cell_type": "code",
      "source": [
        "# Prediction on training set\n",
        "plt.scatter(X_train, y_train, color = 'lightcoral')\n",
        "plt.plot(X_train, y_pred_train, color = 'firebrick')\n",
        "plt.title('Salary vs Experience (Training Set)')\n",
        "plt.xlabel('Years of Experience')\n",
        "plt.ylabel('Salary')\n",
        "plt.legend(['X_train/Pred(y_test)', 'X_train/y_train'], title = 'Sal/Exp', loc='best', facecolor='white' )\n",
        "plt.box(False)\n",
        "plt.show()"
      ],
      "metadata": {
        "id": "h9vyIRbMZDx5"
      },
      "execution_count": null,
      "outputs": []
    },
    {
      "cell_type": "markdown",
      "source": [
        "Plot test set data **vs** predictions\n",
        "\n"
      ],
      "metadata": {
        "id": "kayERXa5ZgNZ"
      }
    },
    {
      "cell_type": "code",
      "source": [
        "# Prediction on test set\n",
        "plt.scatter(X_test, y_test, color = 'lightcoral')\n",
        "plt.plot(X_train, y_pred_train, color = 'firebrick')\n",
        "plt.title('Salary vs Experience (Test Set)')\n",
        "plt.xlabel('Years of Experience')\n",
        "plt.ylabel('Salary')\n",
        "plt.legend(['X_train/Pred(y_test)', 'X_train/y_train'], title = 'Sal/Exp', loc='best', facecolor='White')\n",
        "plt.box(False)\n",
        "plt.show()\n",
        "#Linear equation y = mx + c, we can also get the c (y-intercept) and m (slope/coefficient) from the regressor model.\n",
        ""
      ],
      "metadata": {
        "id": "XYZknPDLZg-S"
      },
      "execution_count": null,
      "outputs": []
    },
    {
      "cell_type": "code",
      "source": [
        "# Regressor coefficients and intercept\n",
        "print(f'Coefficient: {regressor.coef_}')\n",
        "print(f'Intercept: {regressor.intercept_}')"
      ],
      "metadata": {
        "id": "UKS-OPjOZ5xK"
      },
      "execution_count": null,
      "outputs": []
    },
    {
      "cell_type": "markdown",
      "source": [],
      "metadata": {
        "id": "0V_hEjaZaosq"
      }
    }
  ]
}