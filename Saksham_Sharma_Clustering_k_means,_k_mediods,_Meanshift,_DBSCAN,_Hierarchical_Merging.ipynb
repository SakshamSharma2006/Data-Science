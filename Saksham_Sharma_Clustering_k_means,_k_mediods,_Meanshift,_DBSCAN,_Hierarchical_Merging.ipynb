{
  "nbformat": 4,
  "nbformat_minor": 0,
  "metadata": {
    "colab": {
      "private_outputs": true,
      "provenance": []
    },
    "kernelspec": {
      "name": "python3",
      "display_name": "Python 3"
    },
    "language_info": {
      "name": "python"
    }
  },
  "cells": [
    {
      "cell_type": "markdown",
      "source": [
        "#**Unsupervised Clustering Algorithms**"
      ],
      "metadata": {
        "id": "EVY4PjUT8dTX"
      }
    },
    {
      "cell_type": "markdown",
      "source": [
        "#**1.) K means**"
      ],
      "metadata": {
        "id": "0IYLoG8K8gee"
      }
    },
    {
      "cell_type": "code",
      "execution_count": null,
      "metadata": {
        "id": "3dd919Ty8AyE"
      },
      "outputs": [],
      "source": [
        "# Import necessary libraries\n",
        "from sklearn.datasets import make_blobs\n",
        "from sklearn.cluster import KMeans\n",
        "import matplotlib.pyplot as plt\n",
        "import seaborn as sns\n",
        "import warnings\n",
        "warnings.filterwarnings(\"ignore\")"
      ]
    },
    {
      "cell_type": "code",
      "source": [
        "# Generate synthetic data using make_blobs\n",
        "X, y = make_blobs(n_samples=300, centers=4, random_state=42)"
      ],
      "metadata": {
        "id": "7NmoKdRN866a"
      },
      "execution_count": null,
      "outputs": []
    },
    {
      "cell_type": "code",
      "source": [
        "# Apply K-means clustering\n",
        "kmeans = KMeans(n_clusters=4, random_state=42)\n",
        "kmeans.fit(X)"
      ],
      "metadata": {
        "id": "j0T1vzsq8-XG"
      },
      "execution_count": null,
      "outputs": []
    },
    {
      "cell_type": "code",
      "source": [
        "# Get cluster labels and centroids\n",
        "kmeans_labels = kmeans.labels_\n",
        "centroids = kmeans.cluster_centers_"
      ],
      "metadata": {
        "id": "IiW5YlNj9DCT"
      },
      "execution_count": null,
      "outputs": []
    },
    {
      "cell_type": "code",
      "source": [
        "# Plot the original data points with colors representing the ground truth clusters\n",
        "plt.scatter(X[:, 0], X[:, 1], c=y, cmap='viridis', marker='o', edgecolors='k', label='Ground Truth')"
      ],
      "metadata": {
        "id": "YqvrmcpY9Fxq"
      },
      "execution_count": null,
      "outputs": []
    },
    {
      "cell_type": "code",
      "source": [
        "# Plot the cluster centroids\n",
        "plt.scatter(centroids[:, 0], centroids[:, 1], c='red', marker='X', s=200, label='Centroids')"
      ],
      "metadata": {
        "id": "I2dIqpGP9JcA"
      },
      "execution_count": null,
      "outputs": []
    },
    {
      "cell_type": "code",
      "source": [
        "# Plot the data points with colors representing the predicted clusters by K-means\n",
        "plt.scatter(X[:, 0], X[:, 1], c=kmeans_labels, cmap='viridis', marker='s', edgecolors='k', alpha=0.5, label='K-means Predicted')\n",
        "plt.title('K-means Clustering')\n",
        "plt.xlabel('Feature 1')\n",
        "plt.ylabel('Feature 2')\n",
        "plt.legend()\n",
        "plt.show()"
      ],
      "metadata": {
        "id": "ipI1LRdC9ckF"
      },
      "execution_count": null,
      "outputs": []
    },
    {
      "cell_type": "markdown",
      "source": [
        "#**2.) Agglomerative Clustering**"
      ],
      "metadata": {
        "id": "uMQr2xGn9kY_"
      }
    },
    {
      "cell_type": "code",
      "source": [
        "# Import necessary libraries\n",
        "from sklearn.datasets import make_blobs\n",
        "from sklearn.cluster import AgglomerativeClustering\n",
        "import matplotlib.pyplot as plt"
      ],
      "metadata": {
        "id": "kDBnY-rO9gqj"
      },
      "execution_count": null,
      "outputs": []
    },
    {
      "cell_type": "code",
      "source": [
        "# Generate synthetic data using make_blobs\n",
        "X, y = make_blobs(n_samples=300, centers=4, random_state=42)"
      ],
      "metadata": {
        "id": "gj1-XmfG9tG-"
      },
      "execution_count": null,
      "outputs": []
    },
    {
      "cell_type": "code",
      "source": [
        "# Apply Agglomerative Hierarchical Clustering\n",
        "agg_clustering = AgglomerativeClustering(n_clusters=4)\n",
        "agg_labels = agg_clustering.fit_predict(X)"
      ],
      "metadata": {
        "id": "jgnZkrcy9xcR"
      },
      "execution_count": null,
      "outputs": []
    },
    {
      "cell_type": "code",
      "source": [
        "# Plot the original data points with colors representing the ground truth clusters\n",
        "plt.scatter(X[:, 0], X[:, 1], c=y, cmap='viridis', marker='o', edgecolors='k', label='Ground Truth')"
      ],
      "metadata": {
        "id": "beqqKbd590LA"
      },
      "execution_count": null,
      "outputs": []
    },
    {
      "cell_type": "code",
      "source": [
        "# Plot the data points with colors representing the predicted clusters by Agglomerative Clustering\n",
        "plt.scatter(X[:, 0], X[:, 1], c=agg_labels, cmap='viridis', marker='s', edgecolors='k', alpha=0.5, label='Agglomerative Clustering')\n",
        "plt.title('Agglomerative Hierarchical Clustering')\n",
        "plt.xlabel('Feature 1')\n",
        "plt.ylabel('Feature 2')\n",
        "plt.legend()\n",
        "plt.show()"
      ],
      "metadata": {
        "id": "UizN-NgY95zk"
      },
      "execution_count": null,
      "outputs": []
    },
    {
      "cell_type": "markdown",
      "source": [
        "#**3.) DBSCAN**"
      ],
      "metadata": {
        "id": "sePiAZQ19-00"
      }
    },
    {
      "cell_type": "code",
      "source": [
        "# Import necessary libraries\n",
        "from sklearn.datasets import make_blobs\n",
        "from sklearn.cluster import DBSCAN\n",
        "import matplotlib.pyplot as plt"
      ],
      "metadata": {
        "id": "DKugBXmR98p9"
      },
      "execution_count": null,
      "outputs": []
    },
    {
      "cell_type": "code",
      "source": [
        "# Generate synthetic data using make_blobs\n",
        "X, y = make_blobs(n_samples=300, centers=4, random_state=42)"
      ],
      "metadata": {
        "id": "GH49Bu4J-JMY"
      },
      "execution_count": null,
      "outputs": []
    },
    {
      "cell_type": "code",
      "source": [
        "# Apply DBSCAN clustering\n",
        "dbscan_clustering = DBSCAN(eps=0.8, min_samples=5)\n",
        "dbscan_labels = dbscan_clustering.fit_predict(X)"
      ],
      "metadata": {
        "id": "FFGTmz4b-NTd"
      },
      "execution_count": null,
      "outputs": []
    },
    {
      "cell_type": "code",
      "source": [
        "# Plot the original data points with colors representing the ground truth clusters\n",
        "plt.scatter(X[:, 0], X[:, 1], c=y, cmap='viridis', marker='o', edgecolors='k', label='Ground Truth')\n",
        "# Plot the data points with colors representing the predicted clusters by DBSCAN\n",
        "plt.scatter(X[:, 0], X[:, 1], c=dbscan_labels, cmap='viridis', marker='s', edgecolors='k', alpha=0.5, label='DBSCAN Predicted')\n",
        "plt.title('DBSCAN Clustering')\n",
        "plt.xlabel('Feature 1')\n",
        "plt.ylabel('Feature 2')\n",
        "plt.legend()\n",
        "plt.show()"
      ],
      "metadata": {
        "id": "ppOvxI7G-Ods"
      },
      "execution_count": null,
      "outputs": []
    },
    {
      "cell_type": "markdown",
      "source": [
        "#**4.) Hierarchical Clustering**"
      ],
      "metadata": {
        "id": "5AKOsI_G-Wbt"
      }
    },
    {
      "cell_type": "code",
      "source": [
        "# Import necessary libraries\n",
        "from sklearn.datasets import make_blobs\n",
        "from scipy.cluster.hierarchy import linkage, dendrogram\n",
        "import matplotlib.pyplot as plt\n",
        "# Generate synthetic data using make_blobs\n",
        "X, y = make_blobs(n_samples=300, centers=4, random_state=42)\n",
        "# Apply Hierarchical Clustering\n",
        "linkage_matrix = linkage(X, method='ward')\n",
        "# Plot the dendrogram\n",
        "plt.figure(figsize=(7.5,7.5))\n",
        "dendrogram(linkage_matrix)\n",
        "plt.title('Hierarchical Clustering Dendrogram')\n",
        "plt.xlabel('Sample Index')\n",
        "plt.ylabel('Distance')\n",
        "plt.show()"
      ],
      "metadata": {
        "id": "nra8Ury6-Tmc"
      },
      "execution_count": null,
      "outputs": []
    }
  ]
}